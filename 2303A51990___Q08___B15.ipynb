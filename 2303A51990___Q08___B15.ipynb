{
  "nbformat": 4,
  "nbformat_minor": 0,
  "metadata": {
    "colab": {
      "provenance": [],
      "authorship_tag": "ABX9TyORpIYUTT6EKddfSm/9lNwk",
      "include_colab_link": true
    },
    "kernelspec": {
      "name": "python3",
      "display_name": "Python 3"
    },
    "language_info": {
      "name": "python"
    }
  },
  "cells": [
    {
      "cell_type": "markdown",
      "metadata": {
        "id": "view-in-github",
        "colab_type": "text"
      },
      "source": [
        "<a href=\"https://colab.research.google.com/github/ashishvuthunoori/AIML-25_B15/blob/main/2303A51990___Q08___B15.ipynb\" target=\"_parent\"><img src=\"https://colab.research.google.com/assets/colab-badge.svg\" alt=\"Open In Colab\"/></a>"
      ]
    },
    {
      "cell_type": "code",
      "source": [
        "import pandas as pd\n",
        "import seaborn as sns\n",
        "import matplotlib.pyplot as plt\n",
        "from sklearn.ensemble import RandomForestClassifier\n",
        "from sklearn.model_selection import train_test_split\n",
        "from sklearn.preprocessing import LabelEncoder\n",
        "\n",
        "# Load datasets with correct delimiter\n",
        "mat_df = pd.read_csv('/content/student-mat.csv', delimiter=';')\n",
        "por_df = pd.read_csv('/content/student-por.csv', delimiter=';')\n",
        "\n",
        "# Combine datasets\n",
        "combined_df = pd.concat([mat_df, por_df]).drop_duplicates().reset_index(drop=True)\n",
        "\n",
        "# Encode categorical features\n",
        "le = LabelEncoder()\n",
        "for column in combined_df.select_dtypes(include=['object']).columns:\n",
        "    combined_df[column] = le.fit_transform(combined_df[column])\n",
        "\n",
        "# Define target: classify 'low performance' (e.g., G3 <= 10)\n",
        "combined_df['low_performance'] = (combined_df['G3'] <= 10).astype(int)\n",
        "X = combined_df.drop(columns=['G3', 'low_performance'])\n",
        "y = combined_df['low_performance']\n",
        "\n",
        "# Train-test split\n",
        "X_train, X_test, y_train, y_test = train_test_split(X, y, test_size=0.2, random_state=42)\n",
        "\n",
        "# Train a Random Forest Classifier\n",
        "rf = RandomForestClassifier(n_estimators=100, random_state=42)\n",
        "rf.fit(X_train, y_train)\n",
        "\n",
        "# Feature importance\n",
        "feature_importances = pd.Series(rf.feature_importances_, index=X.columns)\n",
        "top_features = feature_importances.sort_values(ascending=False).head(5)\n",
        "\n",
        "# Plot the top 5 factors\n",
        "plt.figure(figsize=(10, 6))\n",
        "sns.barplot(x=top_features.values, y=top_features.index, palette='coolwarm')\n",
        "plt.title('Top 5 Reasons for Low Student Performance')\n",
        "plt.xlabel('Feature Importance')\n",
        "plt.ylabel('Features')\n",
        "plt.show()\n",
        "\n",
        "# Print top features\n",
        "print(\"Top 5 Reasons for Low Performance:\\n\", top_features)"
      ],
      "metadata": {
        "colab": {
          "base_uri": "https://localhost:8080/",
          "height": 632
        },
        "id": "Wp7cpfMyIdN1",
        "outputId": "b2c0c7d4-b649-48e0-e59e-931e47858576"
      },
      "execution_count": 27,
      "outputs": [
        {
          "output_type": "stream",
          "name": "stderr",
          "text": [
            "<ipython-input-27-5ff0106ad33f>:38: FutureWarning: \n",
            "\n",
            "Passing `palette` without assigning `hue` is deprecated and will be removed in v0.14.0. Assign the `y` variable to `hue` and set `legend=False` for the same effect.\n",
            "\n",
            "  sns.barplot(x=top_features.values, y=top_features.index, palette='coolwarm')\n"
          ]
        },
        {
          "output_type": "display_data",
          "data": {
            "text/plain": [
              "<Figure size 1000x600 with 1 Axes>"
            ],
            "image/png": "[encoded data removed]"
          },
          "metadata": {}
        },
        {
          "output_type": "stream",
          "name": "stdout",
          "text": [
            "Top 5 Reasons for Low Performance:\n",
            " G2          0.345429\n",
            "G1          0.240882\n",
            "failures    0.049218\n",
            "absences    0.028779\n",
            "Fedu        0.019596\n",
            "dtype: float64\n"
          ]
        }
      ]
    },
    {
      "cell_type": "code",
      "source": [
        "import pandas as pd\n",
        "\n",
        "# Load the datasets with correct delimiter\n",
        "mat_df = pd.read_csv('/content/student-mat.csv', delimiter=';')\n",
        "por_df = pd.read_csv('/content/student-por.csv', delimiter=';')\n",
        "\n",
        "# Combine datasets and remove duplicates\n",
        "combined_df = pd.concat([mat_df, por_df]).drop_duplicates().reset_index(drop=True)\n",
        "\n",
        "# Filter rows where both parents are employed\n",
        "both_employed = combined_df[(combined_df['Mjob'] != 'at_home') & (combined_df['Fjob'] != 'at_home')]\n",
        "\n",
        "# Count students where both parents are employed\n",
        "count_both_employed = both_employed.shape[0]\n",
        "\n",
        "print(f\"Number of students with both parents employed: {count_both_employed}\")"
      ],
      "metadata": {
        "colab": {
          "base_uri": "https://localhost:8080/"
        },
        "id": "KJMVx5DDJYdx",
        "outputId": "aef6492e-2138-4ab0-be9b-73ac43816837"
      },
      "execution_count": 28,
      "outputs": [
        {
          "output_type": "stream",
          "name": "stdout",
          "text": [
            "Number of students with both parents employed: 813\n"
          ]
        }
      ]
    },
    {
      "cell_type": "code",
      "source": [
        "import pandas as pd\n",
        "\n",
        "# Load the datasets with the correct delimiter\n",
        "mat_df = pd.read_csv('/content/student-mat.csv', delimiter=';')\n",
        "por_df = pd.read_csv('/content/student-por.csv', delimiter=';')\n",
        "\n",
        "# Combine datasets and remove duplicates\n",
        "combined_df = pd.concat([mat_df, por_df]).drop_duplicates().reset_index(drop=True)\n",
        "\n",
        "# Find the maximum and minimum age\n",
        "max_age = combined_df['age'].max()\n",
        "min_age = combined_df['age'].min()\n",
        "\n",
        "print(f\"Maximum age of students: {max_age}\")\n",
        "print(f\"Minimum age of students: {min_age}\")"
      ],
      "metadata": {
        "colab": {
          "base_uri": "https://localhost:8080/"
        },
        "id": "iQh3JK4dJcMG",
        "outputId": "32e8ac45-f988-4001-e232-8b5c43f43eb4"
      },
      "execution_count": 29,
      "outputs": [
        {
          "output_type": "stream",
          "name": "stdout",
          "text": [
            "Maximum age of students: 22\n",
            "Minimum age of students: 15\n"
          ]
        }
      ]
    },
    {
      "cell_type": "code",
      "source": [
        "import pandas as pd\n",
        "\n",
        "# Load the datasets with the correct delimiter\n",
        "mat_df = pd.read_csv('/content/student-mat.csv', delimiter=';')\n",
        "por_df = pd.read_csv('/content/student-por.csv', delimiter=';')\n",
        "\n",
        "# Combine datasets and remove duplicates\n",
        "combined_df = pd.concat([mat_df, por_df]).drop_duplicates().reset_index(drop=True)\n",
        "\n",
        "# Analyze 'school' column to find the most common school (as proxy for medium)\n",
        "most_common_school = combined_df['school'].value_counts().idxmax()\n",
        "count_most_common_school = combined_df['school'].value_counts().max()\n",
        "\n",
        "print(f\"The most common school (proxy for medium of instruction) is: {most_common_school}\")\n",
        "print(f\"Number of students in this school: {count_most_common_school}\")"
      ],
      "metadata": {
        "colab": {
          "base_uri": "https://localhost:8080/"
        },
        "id": "f9cI_ag2JiwB",
        "outputId": "5cb0757d-6d47-4a94-92e3-a200a41dae8e"
      },
      "execution_count": 30,
      "outputs": [
        {
          "output_type": "stream",
          "name": "stdout",
          "text": [
            "The most common school (proxy for medium of instruction) is: GP\n",
            "Number of students in this school: 772\n"
          ]
        }
      ]
    },
    {
      "cell_type": "code",
      "source": [
        "import pandas as pd\n",
        "import seaborn as sns\n",
        "import matplotlib.pyplot as plt\n",
        "\n",
        "# Load the datasets with the correct delimiter\n",
        "mat_df = pd.read_csv('/content/student-mat.csv', delimiter=';')\n",
        "por_df = pd.read_csv('/content/student-por.csv', delimiter=';')\n",
        "\n",
        "# Combine datasets and remove duplicates\n",
        "combined_df = pd.concat([mat_df, por_df]).drop_duplicates().reset_index(drop=True)\n",
        "\n",
        "# Check the 'activities' column (yes/no) and G3 (final grade)\n",
        "sns.boxplot(x='activities', y='G3', data=combined_df, palette='coolwarm')\n",
        "plt.title('Impact of Extra-Curricular Activities on Student Performance')\n",
        "plt.xlabel('Extra-Curricular Activities Participation')\n",
        "plt.ylabel('Final Grade (G3)')\n",
        "plt.show()\n",
        "\n",
        "# Calculate average G3 for students who do and do not participate\n",
        "avg_performance = combined_df.groupby('activities')['G3'].mean()\n",
        "\n",
        "print(\"Average performance based on extra-curricular participation:\\n\", avg_performance)"
      ],
      "metadata": {
        "colab": {
          "base_uri": "https://localhost:8080/",
          "height": 666
        },
        "id": "PFyOd-avJvjo",
        "outputId": "6119b90a-31d9-4558-956a-268d2b2bf4d2"
      },
      "execution_count": 31,
      "outputs": [
        {
          "output_type": "stream",
          "name": "stderr",
          "text": [
            "<ipython-input-31-5e3516f3c07b>:13: FutureWarning: \n",
            "\n",
            "Passing `palette` without assigning `hue` is deprecated and will be removed in v0.14.0. Assign the `x` variable to `hue` and set `legend=False` for the same effect.\n",
            "\n",
            "  sns.boxplot(x='activities', y='G3', data=combined_df, palette='coolwarm')\n"
          ]
        },
        {
          "output_type": "display_data",
          "data": {
            "text/plain": [
              "<Figure size 640x480 with 1 Axes>"
            ],
            "image/png": "[encoded data removed]"
          },
          "metadata": {}
        },
        {
          "output_type": "stream",
          "name": "stdout",
          "text": [
            "Average performance based on extra-curricular participation:\n",
            " activities\n",
            "no     11.212121\n",
            "yes    11.474806\n",
            "Name: G3, dtype: float64\n"
          ]
        }
      ]
    },
    {
      "cell_type": "code",
      "source": [
        "import pandas as pd\n",
        "from sklearn.model_selection import train_test_split\n",
        "from sklearn.preprocessing import LabelEncoder\n",
        "from sklearn.ensemble import RandomForestClassifier\n",
        "from sklearn.metrics import classification_report, accuracy_score\n",
        "\n",
        "mat_df = pd.read_csv('/content/student-mat.csv', delimiter=';')\n",
        "por_df = pd.read_csv('/content/student-por.csv', delimiter=';')\n",
        "\n",
        "combined_df = pd.concat([mat_df, por_df]).drop_duplicates().reset_index(drop=True)\n",
        "\n",
        "combined_df = combined_df.dropna()\n",
        "\n",
        "le = LabelEncoder()\n",
        "for column in combined_df.select_dtypes(include=['object']).columns:\n",
        "    combined_df[column] = le.fit_transform(combined_df[column])\n",
        "\n",
        "combined_df['low_performance'] = (combined_df['G3'] <= 10).astype(int)\n",
        "\n",
        "X = combined_df.drop(columns=['G3', 'low_performance'])\n",
        "y = combined_df['low_performance']\n",
        "\n",
        "X_train, X_test, y_train, y_test = train_test_split(X, y, test_size=0.2, random_state=42)\n",
        "\n",
        "rf = RandomForestClassifier(n_estimators=100, random_state=42)\n",
        "rf.fit(X_train, y_train)\n",
        "\n",
        "y_pred = rf.predict(X_test)\n",
        "\n",
        "accuracy = accuracy_score(y_test, y_pred)\n",
        "report = classification_report(y_test, y_pred)\n",
        "\n",
        "print(f\"Model Accuracy: {accuracy:.2f}\")\n",
        "print(\"Classification Report:\\n\", report)"
      ],
      "metadata": {
        "colab": {
          "base_uri": "https://localhost:8080/"
        },
        "id": "VJLdSEDfJ3iX",
        "outputId": "753258e4-36a9-435c-ff9d-6feebcb89a63"
      },
      "execution_count": 32,
      "outputs": [
        {
          "output_type": "stream",
          "name": "stdout",
          "text": [
            "Model Accuracy: 0.94\n",
            "Classification Report:\n",
            "               precision    recall  f1-score   support\n",
            "\n",
            "           0       0.94      0.95      0.95       122\n",
            "           1       0.93      0.92      0.92        87\n",
            "\n",
            "    accuracy                           0.94       209\n",
            "   macro avg       0.94      0.94      0.94       209\n",
            "weighted avg       0.94      0.94      0.94       209\n",
            "\n"
          ]
        }
      ]
    }
  ]
}